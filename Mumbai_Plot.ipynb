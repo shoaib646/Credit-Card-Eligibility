{
  "cells": [
    {
      "cell_type": "markdown",
      "metadata": {
        "id": "view-in-github",
        "colab_type": "text"
      },
      "source": [
        "<a href=\"https://colab.research.google.com/github/shoaib646/Credit-Card-Eligibility/blob/main/Mumbai_Plot.ipynb\" target=\"_parent\"><img src=\"https://colab.research.google.com/assets/colab-badge.svg\" alt=\"Open In Colab\"/></a>"
      ]
    },
    {
      "cell_type": "markdown",
      "id": "66c2ec26-8d44-4b86-8bd6-376de0569d3b",
      "metadata": {
        "id": "66c2ec26-8d44-4b86-8bd6-376de0569d3b"
      },
      "source": [
        "Mumbai is one of the most populous metropolitan city in India with an ever-increasing population of over 20M. It is also considered as the economic capital of India due to the presence of a large number of industries and organization head quarters within the city. As a result, people from all over the country move to Mumbai with various prospects of studies and jobs and that makes the real estate sector boom with sky rocketing prices of apartments to rent or lease.\n",
        "\n",
        "In this project, we will try to analyze the apartments in Mumbai for rent or sale in 2020 and draw conclusions based on some predefined conditions and predict the budget to buy a house in Mumbai.\n",
        "\n",
        "Condition\n",
        "* 1.I want to understand what are the rates of the properties in order to decide on her budget.\n",
        "* 2.The apartment should be within 5kms radius of Mumbai International Airport (as she works at the airport).*\n",
        "* 3.The apartment should be near the beach and sea facing.*\n",
        "* 4.Finally, I also wanted to find the fastest route to the Mumbai Naval Dockyard as my employer works there.*"
      ]
    },
    {
      "cell_type": "code",
      "execution_count": null,
      "id": "40160b97-a2d6-442a-8533-c997ee71feaa",
      "metadata": {
        "id": "40160b97-a2d6-442a-8533-c997ee71feaa"
      },
      "outputs": [],
      "source": []
    },
    {
      "cell_type": "code",
      "execution_count": 1,
      "id": "e3ac0d1f-1e55-4792-a45e-231db83de4b2",
      "metadata": {
        "id": "e3ac0d1f-1e55-4792-a45e-231db83de4b2"
      },
      "outputs": [],
      "source": [
        "import folium"
      ]
    },
    {
      "cell_type": "code",
      "execution_count": 2,
      "id": "96a4ed7f-b39b-4322-b943-466f55c057c4",
      "metadata": {
        "id": "96a4ed7f-b39b-4322-b943-466f55c057c4"
      },
      "outputs": [],
      "source": [
        "import pandas as pd\n",
        "import numpy as  np\n",
        "import matplotlib\n",
        "import matplotlib.pyplot as plt"
      ]
    },
    {
      "cell_type": "code",
      "execution_count": 2,
      "id": "d3df869c-4c69-4532-a028-f587c4677145",
      "metadata": {
        "id": "d3df869c-4c69-4532-a028-f587c4677145"
      },
      "outputs": [],
      "source": []
    },
    {
      "cell_type": "code",
      "execution_count": 3,
      "id": "f3bf55ec-9b1e-43e7-b868-c4d8835378ea",
      "metadata": {
        "id": "f3bf55ec-9b1e-43e7-b868-c4d8835378ea"
      },
      "outputs": [],
      "source": [
        "df = pd.read_csv('prop_data_clean.csv')"
      ]
    },
    {
      "cell_type": "code",
      "execution_count": 3,
      "id": "b49bf23e-9aca-48fd-92fe-4c54f28bb8e0",
      "metadata": {
        "id": "b49bf23e-9aca-48fd-92fe-4c54f28bb8e0"
      },
      "outputs": [],
      "source": []
    },
    {
      "cell_type": "code",
      "execution_count": 4,
      "id": "6db519ca-fb54-42b4-b936-d6f5d7247b35",
      "metadata": {
        "id": "6db519ca-fb54-42b4-b936-d6f5d7247b35"
      },
      "outputs": [],
      "source": [
        "df.drop(['city','desc','dev_name','post_date','poster_name','project','title','url','user_type'],axis=1, inplace=True)"
      ]
    },
    {
      "cell_type": "code",
      "execution_count": 5,
      "id": "9f7ef521-06cb-4bb0-9cbf-6839396c2fb4",
      "metadata": {
        "id": "9f7ef521-06cb-4bb0-9cbf-6839396c2fb4"
      },
      "outputs": [],
      "source": [
        "df.drop('bathroom_num',axis=1, inplace=True)"
      ]
    },
    {
      "cell_type": "code",
      "execution_count": 6,
      "id": "002eb383-daee-44dd-8011-b2d8f415b370",
      "metadata": {
        "id": "002eb383-daee-44dd-8011-b2d8f415b370"
      },
      "outputs": [],
      "source": [
        "df['floor_count'].fillna(abs(np.round(df.floor_count.mean())), inplace=True)"
      ]
    },
    {
      "cell_type": "code",
      "execution_count": 7,
      "id": "31b967ee-a5b7-4cfc-b836-fdda8979e0a1",
      "metadata": {
        "id": "31b967ee-a5b7-4cfc-b836-fdda8979e0a1"
      },
      "outputs": [],
      "source": [
        "df['floor_num'].fillna(abs(np.round(df.floor_num.mean())), inplace=True)"
      ]
    },
    {
      "cell_type": "code",
      "execution_count": 8,
      "id": "4c947b46-db0c-4721-ab5d-be38960db4f6",
      "metadata": {
        "colab": {
          "base_uri": "https://localhost:8080/",
          "height": 162
        },
        "id": "4c947b46-db0c-4721-ab5d-be38960db4f6",
        "outputId": "3b436ebf-6b86-4cf6-e47b-51fbc56fb6b4"
      },
      "outputs": [
        {
          "output_type": "execute_result",
          "data": {
            "text/plain": [
              "    area  bedroom_num  floor_count  floor_num   furnishing        id  \\\n",
              "0  350.0            1         17.0        9.0  Unfurnished  45349857   \n",
              "\n",
              "               id_string   latitude    locality  longitude  price trans  \\\n",
              "0  domcache_srp_45349857  19.201336  Malad West  72.825882   9000  Rent   \n",
              "\n",
              "        type  \n",
              "0  Apartment  "
            ],
            "text/html": [
              "\n",
              "  <div id=\"df-5c3646e0-f555-46ce-a06e-241283d157f5\">\n",
              "    <div class=\"colab-df-container\">\n",
              "      <div>\n",
              "<style scoped>\n",
              "    .dataframe tbody tr th:only-of-type {\n",
              "        vertical-align: middle;\n",
              "    }\n",
              "\n",
              "    .dataframe tbody tr th {\n",
              "        vertical-align: top;\n",
              "    }\n",
              "\n",
              "    .dataframe thead th {\n",
              "        text-align: right;\n",
              "    }\n",
              "</style>\n",
              "<table border=\"1\" class=\"dataframe\">\n",
              "  <thead>\n",
              "    <tr style=\"text-align: right;\">\n",
              "      <th></th>\n",
              "      <th>area</th>\n",
              "      <th>bedroom_num</th>\n",
              "      <th>floor_count</th>\n",
              "      <th>floor_num</th>\n",
              "      <th>furnishing</th>\n",
              "      <th>id</th>\n",
              "      <th>id_string</th>\n",
              "      <th>latitude</th>\n",
              "      <th>locality</th>\n",
              "      <th>longitude</th>\n",
              "      <th>price</th>\n",
              "      <th>trans</th>\n",
              "      <th>type</th>\n",
              "    </tr>\n",
              "  </thead>\n",
              "  <tbody>\n",
              "    <tr>\n",
              "      <th>0</th>\n",
              "      <td>350.0</td>\n",
              "      <td>1</td>\n",
              "      <td>17.0</td>\n",
              "      <td>9.0</td>\n",
              "      <td>Unfurnished</td>\n",
              "      <td>45349857</td>\n",
              "      <td>domcache_srp_45349857</td>\n",
              "      <td>19.201336</td>\n",
              "      <td>Malad West</td>\n",
              "      <td>72.825882</td>\n",
              "      <td>9000</td>\n",
              "      <td>Rent</td>\n",
              "      <td>Apartment</td>\n",
              "    </tr>\n",
              "  </tbody>\n",
              "</table>\n",
              "</div>\n",
              "      <button class=\"colab-df-convert\" onclick=\"convertToInteractive('df-5c3646e0-f555-46ce-a06e-241283d157f5')\"\n",
              "              title=\"Convert this dataframe to an interactive table.\"\n",
              "              style=\"display:none;\">\n",
              "        \n",
              "  <svg xmlns=\"http://www.w3.org/2000/svg\" height=\"24px\"viewBox=\"0 0 24 24\"\n",
              "       width=\"24px\">\n",
              "    <path d=\"M0 0h24v24H0V0z\" fill=\"none\"/>\n",
              "    <path d=\"M18.56 5.44l.94 2.06.94-2.06 2.06-.94-2.06-.94-.94-2.06-.94 2.06-2.06.94zm-11 1L8.5 8.5l.94-2.06 2.06-.94-2.06-.94L8.5 2.5l-.94 2.06-2.06.94zm10 10l.94 2.06.94-2.06 2.06-.94-2.06-.94-.94-2.06-.94 2.06-2.06.94z\"/><path d=\"M17.41 7.96l-1.37-1.37c-.4-.4-.92-.59-1.43-.59-.52 0-1.04.2-1.43.59L10.3 9.45l-7.72 7.72c-.78.78-.78 2.05 0 2.83L4 21.41c.39.39.9.59 1.41.59.51 0 1.02-.2 1.41-.59l7.78-7.78 2.81-2.81c.8-.78.8-2.07 0-2.86zM5.41 20L4 18.59l7.72-7.72 1.47 1.35L5.41 20z\"/>\n",
              "  </svg>\n",
              "      </button>\n",
              "      \n",
              "  <style>\n",
              "    .colab-df-container {\n",
              "      display:flex;\n",
              "      flex-wrap:wrap;\n",
              "      gap: 12px;\n",
              "    }\n",
              "\n",
              "    .colab-df-convert {\n",
              "      background-color: #E8F0FE;\n",
              "      border: none;\n",
              "      border-radius: 50%;\n",
              "      cursor: pointer;\n",
              "      display: none;\n",
              "      fill: #1967D2;\n",
              "      height: 32px;\n",
              "      padding: 0 0 0 0;\n",
              "      width: 32px;\n",
              "    }\n",
              "\n",
              "    .colab-df-convert:hover {\n",
              "      background-color: #E2EBFA;\n",
              "      box-shadow: 0px 1px 2px rgba(60, 64, 67, 0.3), 0px 1px 3px 1px rgba(60, 64, 67, 0.15);\n",
              "      fill: #174EA6;\n",
              "    }\n",
              "\n",
              "    [theme=dark] .colab-df-convert {\n",
              "      background-color: #3B4455;\n",
              "      fill: #D2E3FC;\n",
              "    }\n",
              "\n",
              "    [theme=dark] .colab-df-convert:hover {\n",
              "      background-color: #434B5C;\n",
              "      box-shadow: 0px 1px 3px 1px rgba(0, 0, 0, 0.15);\n",
              "      filter: drop-shadow(0px 1px 2px rgba(0, 0, 0, 0.3));\n",
              "      fill: #FFFFFF;\n",
              "    }\n",
              "  </style>\n",
              "\n",
              "      <script>\n",
              "        const buttonEl =\n",
              "          document.querySelector('#df-5c3646e0-f555-46ce-a06e-241283d157f5 button.colab-df-convert');\n",
              "        buttonEl.style.display =\n",
              "          google.colab.kernel.accessAllowed ? 'block' : 'none';\n",
              "\n",
              "        async function convertToInteractive(key) {\n",
              "          const element = document.querySelector('#df-5c3646e0-f555-46ce-a06e-241283d157f5');\n",
              "          const dataTable =\n",
              "            await google.colab.kernel.invokeFunction('convertToInteractive',\n",
              "                                                     [key], {});\n",
              "          if (!dataTable) return;\n",
              "\n",
              "          const docLinkHtml = 'Like what you see? Visit the ' +\n",
              "            '<a target=\"_blank\" href=https://colab.research.google.com/notebooks/data_table.ipynb>data table notebook</a>'\n",
              "            + ' to learn more about interactive tables.';\n",
              "          element.innerHTML = '';\n",
              "          dataTable['output_type'] = 'display_data';\n",
              "          await google.colab.output.renderOutput(dataTable, element);\n",
              "          const docLink = document.createElement('div');\n",
              "          docLink.innerHTML = docLinkHtml;\n",
              "          element.appendChild(docLink);\n",
              "        }\n",
              "      </script>\n",
              "    </div>\n",
              "  </div>\n",
              "  "
            ]
          },
          "metadata": {},
          "execution_count": 8
        }
      ],
      "source": [
        "df.head(1)"
      ]
    },
    {
      "cell_type": "code",
      "execution_count": 9,
      "id": "63c082d6-bf5a-413c-a37e-93efd97c083a",
      "metadata": {
        "id": "63c082d6-bf5a-413c-a37e-93efd97c083a"
      },
      "outputs": [],
      "source": [
        "df1 = df[['latitude','longitude']].values.tolist()"
      ]
    },
    {
      "cell_type": "code",
      "execution_count": 10,
      "id": "b184102a-3b8b-414c-ad11-a149e58ffbf2",
      "metadata": {
        "id": "b184102a-3b8b-414c-ad11-a149e58ffbf2"
      },
      "outputs": [],
      "source": [
        "map = folium.Map(location=[19.201335906982425, 72.82588195800781], zoom_start=20)\n",
        "fg = folium.FeatureGroup(name='plot')\n",
        "\n",
        "for i in df1:\n",
        "    fg.add_child(folium.Marker(location=[i[0], i[1]],popup=df['locality'].values,icon=folium.Icon(color='green')))\n",
        "map.add_child(fg)\n",
        "map.save('tr.html')"
      ]
    },
    {
      "cell_type": "code",
      "execution_count": 10,
      "id": "45fa6503-b846-4def-a946-bc9548a0bc90",
      "metadata": {
        "id": "45fa6503-b846-4def-a946-bc9548a0bc90"
      },
      "outputs": [],
      "source": []
    },
    {
      "cell_type": "code",
      "execution_count": 10,
      "id": "1b18d7c2-d189-4c8f-a33f-5136ca6fb781",
      "metadata": {
        "id": "1b18d7c2-d189-4c8f-a33f-5136ca6fb781"
      },
      "outputs": [],
      "source": []
    }
  ],
  "metadata": {
    "kernelspec": {
      "display_name": "Python 3 (ipykernel)",
      "language": "python",
      "name": "python3"
    },
    "language_info": {
      "codemirror_mode": {
        "name": "ipython",
        "version": 3
      },
      "file_extension": ".py",
      "mimetype": "text/x-python",
      "name": "python",
      "nbconvert_exporter": "python",
      "pygments_lexer": "ipython3",
      "version": "3.9.13"
    },
    "colab": {
      "provenance": [],
      "include_colab_link": true
    },
    "accelerator": "GPU",
    "gpuClass": "standard"
  },
  "nbformat": 4,
  "nbformat_minor": 5
}